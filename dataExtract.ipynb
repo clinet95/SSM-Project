{
 "cells": [
  {
   "cell_type": "code",
   "execution_count": 1,
   "metadata": {},
   "outputs": [],
   "source": [
    "import gzip\n",
    "import json\n",
    "\n",
    "reviews = [] # a list to hold all of the reviews\n",
    "\n",
    "f = gzip.open(\"reviews_Video_Games_5.json.gz\", \"rt\", encoding=\"utf-8\") #opens file   \n",
    "\n",
    "for line in f.readlines():#parse through json file creating json objects\n",
    "    y = json.loads(line) #creates json objects of each line in the file\n",
    "    reviews.append(y) #adds that json object to the list\n",
    "    \n",
    "#testing github-vonterio branch       \n",
    "#print(reviews.pop()) #prints the top json object just for testing if everything works\n"
   ]
  },
  {
   "cell_type": "code",
   "execution_count": 2,
   "metadata": {},
   "outputs": [],
   "source": [
    "finalList = [] #list to hold tuples (product#, review text, overall rating)\n",
    "\n",
    "#iterate through each review object\n",
    "for review in reviews:\n",
    "    \n",
    "    pairs = review.items() #gets each individual pair in reviews\n",
    "    for key,value in pairs:\n",
    "        \n",
    "        #If key is product num, review text, or overall rating assign value\n",
    "        if (key == \"asin\"):\n",
    "            productID = value\n",
    "            \n",
    "        elif (key == \"reviewText\"):\n",
    "            text = value\n",
    "        \n",
    "        elif (key == \"overall\"):\n",
    "            rating = value\n",
    "        \n",
    "        else:\n",
    "            continue\n",
    "    \n",
    "    #Append tuple to final list\n",
    "    finalList.append((productID, text, rating))"
   ]
  },
  {
   "cell_type": "code",
   "execution_count": null,
   "metadata": {},
   "outputs": [],
   "source": [
    "print(finalList[0]) #Testing final list"
   ]
  },
  {
   "cell_type": "code",
   "execution_count": 3,
   "metadata": {},
   "outputs": [],
   "source": [
    "from collections import defaultdict #necessary import for what we need to do\n",
    "\n",
    "condensedList = defaultdict(list) \n",
    "\n",
    "#Iterate and get separate parts of eaach tuple\n",
    "for productID, review, rating in finalList:\n",
    "    condensedList[productID].append((review,rating)) #Uses ID as a key and appends to new list, if key exists it adds on\n",
    "    \n"
   ]
  },
  {
   "cell_type": "code",
   "execution_count": 4,
   "metadata": {},
   "outputs": [
    {
     "name": "stderr",
     "output_type": "stream",
     "text": [
      "[nltk_data] Downloading package vader_lexicon to\n",
      "[nltk_data]     C:\\Users\\Vonterio\\AppData\\Roaming\\nltk_data...\n",
      "[nltk_data]   Package vader_lexicon is already up-to-date!\n"
     ]
    },
    {
     "data": {
      "text/plain": [
       "True"
      ]
     },
     "execution_count": 4,
     "metadata": {},
     "output_type": "execute_result"
    }
   ],
   "source": [
    "import pandas as pd\n",
    "import nltk\n",
    "nltk.download('vader_lexicon')"
   ]
  },
  {
   "cell_type": "code",
   "execution_count": 5,
   "metadata": {},
   "outputs": [],
   "source": [
    "def nltk_sentiment(sentence):\n",
    "    from nltk.sentiment.vader import SentimentIntensityAnalyzer\n",
    "    \n",
    "    nltk_sentiment = SentimentIntensityAnalyzer()\n",
    "    score = nltk_sentiment.polarity_scores(sentence)\n",
    "    return score"
   ]
  },
  {
   "cell_type": "code",
   "execution_count": 18,
   "metadata": {},
   "outputs": [],
   "source": [
    "finalList = []\n",
    "idCounter = 0\n",
    "for key, value in condensedList.items():\n",
    "    ratingAvg = 0 #Var to hold rating totals\n",
    "    totalRatings = 0 #Counter for num of ratings\n",
    "    for review, rating in value:\n",
    "        \n",
    "        totalRatings = totalRatings + 1 #Add 1 to counter for each review/rating pair\n",
    "        nltkRating = nltk_sentiment(review)\n",
    "        nltkCompoundScore = 0\n",
    "\n",
    "        for key1, compValue in nltkRating.items():\n",
    "            if (key1 == \"compound\"):\n",
    "                #make sure to add 1 to shift the domain of the nltk sentiment values. Since it ranges from -1 to 1, \n",
    "                #we don't want the negative values completely changing our score.\n",
    "                nltkCompoundScore = compValue + 1     \n",
    "                \n",
    "        #print(\"Rating: \" + str(rating) + \" sent: \" + str(nltkCompoundScore))\n",
    "        rating = rating * nltkCompoundScore\n",
    "        ratingAvg = rating + ratingAvg #Add to total\n",
    "        \n",
    "    #Get rating Average for current product\n",
    "    ratingAvg = ratingAvg/totalRatings\n",
    "    finalList.append((key,ratingAvg)) #Append to the absoulute final dictionary\n",
    "    \n",
    "    idCounter = idCounter + 1\n",
    "    if (idCounter >= 50):\n",
    "        break"
   ]
  },
  {
   "cell_type": "code",
   "execution_count": 19,
   "metadata": {},
   "outputs": [
    {
     "data": {
      "text/plain": [
       "[('B000006OWR', 2.16032),\n",
       " ('B000006OVK', 4.031071428571428),\n",
       " ('0700099867', 4.1274120000000005),\n",
       " ('7293000936', 4.545483333333334),\n",
       " ('B00000DMB6', 4.599494999999999),\n",
       " ('B000007NJC', 4.858383333333333),\n",
       " ('B000003SQQ', 5.27782),\n",
       " ('8176503290', 5.389079999999999),\n",
       " ('B00000DMB4', 5.488030769230769),\n",
       " ('9882155456', 5.961693103448277),\n",
       " ('B00000G16I', 5.974735294117646),\n",
       " ('B00000F1GI', 6.0454),\n",
       " ('B00000DMB5', 6.069015384615387),\n",
       " ('B000006RGQ', 6.122),\n",
       " ('907843905X', 6.24858),\n",
       " ('B000006OVE', 6.281147058823529),\n",
       " ('B00000DMAV', 6.353627272727272),\n",
       " ('B00000DMAR', 6.500960606060606),\n",
       " ('B00000I1B8', 6.5988357142857135),\n",
       " ('B000006P0J', 6.626733333333333),\n",
       " ('B00000DMA8', 6.65675882352941),\n",
       " ('B00000DMAO', 6.739571428571429),\n",
       " ('7100027950', 6.7517625),\n",
       " ('B000006RGO', 6.79142),\n",
       " ('B00000DMAM', 6.879292307692307),\n",
       " ('B00000I1B7', 6.947050000000001),\n",
       " ('B000006OWS', 7.160419999999999),\n",
       " ('9861019731', 7.177115384615385),\n",
       " ('9625990674', 7.3037),\n",
       " ('B00000DMAE', 7.4285),\n",
       " ('B000006OVI', 7.4525999999999994),\n",
       " ('B00000DMB2', 7.467115789473684),\n",
       " ('6050036071', 7.513671428571429),\n",
       " ('B00000DMAN', 7.68014),\n",
       " ('B000006RGR', 7.902099999999999),\n",
       " ('B000006RGS', 7.95951304347826),\n",
       " ('B00000DMAU', 7.960957142857144),\n",
       " ('B000006P0M', 8.052983333333335),\n",
       " ('B00000F1GM', 8.200693396226415),\n",
       " ('B000006OVJ', 8.211531249999998),\n",
       " ('B00000DMAP', 8.25686),\n",
       " ('B00000DMAT', 8.294765753424656),\n",
       " ('B000006P0K', 8.470806666666666),\n",
       " ('B00000DMAA', 8.520928571428572),\n",
       " ('B00000DMAD', 8.52729375),\n",
       " ('B00000DMAX', 8.614081538461539),\n",
       " ('B00000DMAQ', 8.75940625),\n",
       " ('B00000DMB3', 8.815044520547945),\n",
       " ('B00000DMB9', 8.833066666666667),\n",
       " ('B000009QD1', 8.98266)]"
      ]
     },
     "execution_count": 19,
     "metadata": {},
     "output_type": "execute_result"
    }
   ],
   "source": [
    "finalList.sort(key = lambda tup: tup[1])\n",
    "(finalList) #prints out 50 sorted products and final rankings"
   ]
  },
  {
   "cell_type": "code",
   "execution_count": null,
   "metadata": {},
   "outputs": [],
   "source": [
    "#Code from website\n",
    "nltk_results = [nltk_sentiment(row) for row in reviewsForProduct] #This line alone will print the results from each review\n",
    "\n",
    "#This is for if we want to export results to excel or google sheets for cleaner formatting\n",
    "results_df = pd.DataFrame(nltk_results)\n",
    "text_df = pd.DataFrame(reviewsForProduct, columns = ['text'])\n",
    "nltk_df = text_df.join(results_df)\n",
    "print(nltk_results)"
   ]
  },
  {
   "cell_type": "code",
   "execution_count": null,
   "metadata": {},
   "outputs": [],
   "source": []
  },
  {
   "cell_type": "code",
   "execution_count": null,
   "metadata": {},
   "outputs": [],
   "source": []
  }
 ],
 "metadata": {
  "kernelspec": {
   "display_name": "Python 3",
   "language": "python",
   "name": "python3"
  },
  "language_info": {
   "codemirror_mode": {
    "name": "ipython",
    "version": 3
   },
   "file_extension": ".py",
   "mimetype": "text/x-python",
   "name": "python",
   "nbconvert_exporter": "python",
   "pygments_lexer": "ipython3",
   "version": "3.8.3"
  }
 },
 "nbformat": 4,
 "nbformat_minor": 4
}
