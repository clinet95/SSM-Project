{
 "cells": [
  {
   "cell_type": "code",
   "execution_count": 1,
   "metadata": {},
   "outputs": [],
   "source": [
    "import gzip\n",
    "import json\n",
    "\n",
    "reviews = [] # a list to hold all of the reviews\n",
    "\n",
    "f = gzip.open(\"reviews_Video_Games_5.json.gz\", \"rt\", encoding=\"utf-8\") #opens file   \n",
    "\n",
    "for line in f.readlines():#parse through json file creating json objects\n",
    "    y = json.loads(line) #creates json objects of each line in the file\n",
    "    reviews.append(y) #adds that json object to the list\n",
    "    \n",
    "#testing github-vonterio branch       \n",
    "#print(reviews.pop()) #prints the top json object just for testing if everything works\n"
   ]
  },
  {
   "cell_type": "code",
   "execution_count": 2,
   "metadata": {},
   "outputs": [],
   "source": [
    "finalList = [] #list to hold tuples (product#, review text, overall rating)\n",
    "\n",
    "#iterate through each review object\n",
    "for review in reviews:\n",
    "    \n",
    "    pairs = review.items() #gets each individual pair in reviews\n",
    "    for key,value in pairs:\n",
    "        \n",
    "        #If key is product num, review text, or overall rating assign value\n",
    "        if (key == \"asin\"):\n",
    "            productID = value\n",
    "            \n",
    "        elif (key == \"reviewText\"):\n",
    "            text = value\n",
    "        \n",
    "        elif (key == \"overall\"):\n",
    "            rating = value\n",
    "        \n",
    "        else:\n",
    "            continue\n",
    "    \n",
    "    #Append tuple to final list\n",
    "    finalList.append((productID, text, rating))"
   ]
  },
  {
   "cell_type": "code",
   "execution_count": 3,
   "metadata": {},
   "outputs": [
    {
     "name": "stdout",
     "output_type": "stream",
     "text": [
      "('B00KHECZXO', \"This is not real, you can go to ANY retail store just about, Target, walmart, best buy, gamestop, heck even Newegg online, get the proper bundle with a wheel and extra remote, so you can play 2 player right out of the box for only $330!!  This is a rip off, someone trying to cash in on Amazon NOT having the actual product themselves.  Don't be fooled, shop around!  I got mine at gamestop and couldn't be more happier.  Plus its a red box, this is a little goofy, unless its the overseas version, which i heard still kept their game box blue, which is shown in the picture.  Just be warned.\", 1.0)\n"
     ]
    }
   ],
   "source": [
    "print(finalList.pop()) #Test if tuples print out correctly"
   ]
  }
 ],
 "metadata": {
  "kernelspec": {
   "display_name": "Python 3",
   "language": "python",
   "name": "python3"
  },
  "language_info": {
   "codemirror_mode": {
    "name": "ipython",
    "version": 3
   },
   "file_extension": ".py",
   "mimetype": "text/x-python",
   "name": "python",
   "nbconvert_exporter": "python",
   "pygments_lexer": "ipython3",
   "version": "3.8.3"
  }
 },
 "nbformat": 4,
 "nbformat_minor": 4
}
