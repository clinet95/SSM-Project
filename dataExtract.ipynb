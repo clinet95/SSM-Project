{
 "cells": [
  {
   "cell_type": "code",
   "execution_count": 29,
   "metadata": {},
   "outputs": [
    {
     "name": "stdout",
     "output_type": "stream",
     "text": [
      "{'reviewerID': 'A27CD59R5U58GG', 'asin': 'B00KHECZXO', 'reviewerName': 'ThommyGunn', 'helpful': [23, 28], 'reviewText': \"This is not real, you can go to ANY retail store just about, Target, walmart, best buy, gamestop, heck even Newegg online, get the proper bundle with a wheel and extra remote, so you can play 2 player right out of the box for only $330!!  This is a rip off, someone trying to cash in on Amazon NOT having the actual product themselves.  Don't be fooled, shop around!  I got mine at gamestop and couldn't be more happier.  Plus its a red box, this is a little goofy, unless its the overseas version, which i heard still kept their game box blue, which is shown in the picture.  Just be warned.\", 'overall': 1.0, 'summary': 'DO NOT BUY HERE LOOKS TO BE EUROPEAN VERSION', 'unixReviewTime': 1401840000, 'reviewTime': '06 4, 2014'}\n"
     ]
    }
   ],
   "source": [
    "import gzip\n",
    "import json\n",
    "\n",
    "reviews = [] # a list to hold all of the reviews\n",
    "\n",
    "f = gzip.open(\"reviews_Video_Games_5.json.gz\", \"rt\", encoding=\"utf-8\") #opens file   \n",
    "\n",
    "for line in f.readlines():#parse through json file creating json objects\n",
    "    y = json.loads(line) #creates json objects of each line in the file\n",
    "    reviews.append(y) #adds that json object to the list\n",
    "    \n",
    "        \n",
    "print(reviews.pop()) #prints the top json object just for testing if everything works"
   ]
  },
  {
   "cell_type": "code",
   "execution_count": null,
   "metadata": {},
   "outputs": [],
   "source": []
  }
 ],
 "metadata": {
  "kernelspec": {
   "display_name": "Python 3",
   "language": "python",
   "name": "python3"
  },
  "language_info": {
   "codemirror_mode": {
    "name": "ipython",
    "version": 3
   },
   "file_extension": ".py",
   "mimetype": "text/x-python",
   "name": "python",
   "nbconvert_exporter": "python",
   "pygments_lexer": "ipython3",
   "version": "3.6.3"
  }
 },
 "nbformat": 4,
 "nbformat_minor": 4
}
